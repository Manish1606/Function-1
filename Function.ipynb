{
  "nbformat": 4,
  "nbformat_minor": 0,
  "metadata": {
    "colab": {
      "provenance": []
    },
    "kernelspec": {
      "name": "python3",
      "display_name": "Python 3"
    },
    "language_info": {
      "name": "python"
    }
  },
  "cells": [
    {
      "cell_type": "markdown",
      "source": [
        "Function\n"
      ],
      "metadata": {
        "id": "QJe41QUZwYkM"
      }
    },
    {
      "cell_type": "markdown",
      "source": [
        "Q1. What is the difference between a function and a method in\n",
        "   Python?\n",
        "==>In Python, methods and functions have similar purposes but\n",
        "   differ in important ways. Functions are independent blocks of code that can be called from anywhere, while methods are tied to objects or classes and need an object or class instance to be invoked.\n",
        " * print(): Prints an object to the standard output device.\n",
        " * pop(): Returns and removes the element with the given key.\n",
        "\n",
        "Q2. Explain the concept of function arguments and parameters in\n",
        "   Python.\n",
        "\n",
        "==> In Python, function arguments are the values passed to a\n",
        "   function's parameters when the function is called:\n",
        "   Parameters: The variables listed in the parentheses of a\n",
        "   function's definition.\n",
        "   Arguments: The values passed to the function's parameters when\n",
        "   the function is called.\n",
        "\n",
        "   Here are some examples of function arguments and parameters:\n",
        " * Positional arguments :-Passed in the order they are defined.\n",
        "   For example, in the function def add(a, b): return a + b, the arguments are passed in the order a and then b.\n",
        "\n",
        "Q3. What are the different ways to define and call a function in\n",
        "   Python?\n",
        "==> To define a function in Python, you can use the def keyword,\n",
        "   and to call a function, you can use the function name followed by parentheses.\n",
        "   One  Example:-\n",
        " * Defining a function:- Use the def keyword, name your function,\n",
        "   add optional parameters in parentheses, write your code, and optionally return a value. For example, def my_function(): print(\"Hello from a function\").\n",
        " * Calling a function:- Type the name of the function followed by\n",
        "   parentheses. If the function takes any arguments, they are included within the parentheses. For example, my_function().\n",
        "\n",
        "Q4. What is the purpose of the 'return' statement in a Python     function?\n",
        "==> The purpose of the return statement in Python is to send the\n",
        "   result of a function back to the caller.\n",
        "   One Example-\n",
        " * Returning a value: def add(x, y): result = x + y return result.\n",
        "\n",
        "Q5. What are iterators in Python and how do they differ from\n",
        "   iterables?\n",
        "==> An Iterable is basically an object that any user can iterate\n",
        "   over. An Iterator is also an object that helps a user in iterating over another object (that is iterable). We can generate an iterator when we pass the object to the iter() method.\n",
        "   One Example-\n",
        "   # li = [100, 200, 300]\n",
        "    it = iter(li)\n",
        "    while True:\n",
        "  try:\n",
        "    print(next(it))\n",
        "  except StopIteration:\n",
        "    print(\"End of iteration\")\n",
        "    break\n",
        "   \n",
        "Q6. Explain the concept of generators in Python and how they are\n",
        "   defined?\n",
        "==> A Python generator function allows you to declare a function\n",
        "   that behaves like an iterator, providing a faster and easier way to create iterators. A generator function is defined like a normal function, but uses the yield keyword instead of return. For example, def return_evens(lst) is a generator function that returns even numbers from a list.\n",
        "\n",
        "Q7. What are the advantages of using generators over regular\n",
        "   functions?\n",
        "==> A normal function creates an entire sequence in memory to\n",
        "   return a sequence from the list. If the number of items in the sequence is large, it can consume ample memory. However, a generator function is memory-friendly as it calculates the value and produces one item at a time.\n",
        "\n",
        "Q8. What is a lambda function in Python and when is it typically\n",
        "   used?\n",
        "==> lambda is a keyword in Python for defining the anonymous\n",
        "   function. argument(s) is a placeholder, that is a variable that will be used to hold the value you want to pass into the function expression. A lambda function can have multiple variables depending on what you want to achieve.\n",
        "   Here one Example-\n",
        " * As an argument to a higher-order function, such as built-in\n",
        "  functions like filter(), map(), and reduce().\n",
        "\n",
        "Q9. Explain the purpose and usage of the `map()` function in\n",
        "   Python.\n",
        "==> The map() function in Python applies a function to each item\n",
        "   in an iterable, such as a list, tuple, or dictionary, and returns a new iterable with the updated values. This can be a more efficient alternative to using a for loop to iterate through a list.\n",
        "   Example:-\n",
        " * squares = map(lambda x: x**2, numbers).\n",
        "\n",
        "Q10. What is the difference between `map()`, `reduce()`, and\n",
        "   `filter()` functions in Python.\n",
        "==> The main differences between the map(), reduce(), and filter\n",
        "   () functions in Python are:\n",
        "   map()\n",
        "    Applies a function to each item in a list or set, and returns a new list of the results. For example, you can use map() to convert a list of strings to uppercase.\n",
        "   reduce()\n",
        "    Applies a computation to sequential pairs of values in a list, and returns a single result. For example, you can use reduce() to compute the sum of a list of grades, and then divide by the number of grades to calculate the mean.\n",
        "   filter()\n",
        "    Creates a new list by removing elements that don't meet a condition. For example, you can use filter() to remove words that are palindromes from a list.\n",
        "  # Example of using map, filter, and reduce in Python  \n",
        "   data = [1, 2, 3, 4, 5]  \n",
        "  \n",
        "  # Using the map to apply a function to each element  \n",
        "  # Lambda function returns the square of x  \n",
        "   result1 = map(lambda x: x * 2, data)  # Result: [2, 4, 6, 8, 10]  \n",
        "  \n",
        "  # Using the filter to filter elements based on a condition  \n",
        "  # Lambda function returns True for an even number  \n",
        "   result2 = filter(lambda x: x % 2 == 0, data)  # Result: [2, 4]  \n",
        "  \n",
        "  # Using reduce to aggregate elements  \n",
        "  # Lambda function returns product of x and y  \n",
        "   from functools import reduce  \n",
        "   result3 = reduce(lambda x, y: x * y, data)    \n",
        "\n",
        "Q11.Using pen & Paper write the internal mechanism for sum\n",
        "   operation using  reduce function on this given list:[47,11,42,13];\n",
        "==> The reduce function applies the function cumulatively:-\n",
        "    1. First operation: 47+11=58\n",
        "    2. Second Operation: 58+42=100\n",
        "    3. Third operation: 100+13=113\n",
        "\n",
        "    Code =\n",
        "          from function import reduce\n",
        "          nums = [47,11,42,13]\n",
        "          total = reduce(lambda x, y: x+y, nums)\n",
        "          print(total)\n",
        "\n",
        "    Output = 113\n",
        "\n",
        "\n"
      ],
      "metadata": {
        "id": "8H5rXkEXwmye"
      }
    },
    {
      "cell_type": "code",
      "source": [
        "#1. Write a Python function that takes a list of numbers as input and returns the sum of all even numbers in the list.\n",
        "\n",
        "def sum_even_number(number):\n",
        "   sum = 0\n",
        "   for num in number:\n",
        "    if num % 2 == 0:\n",
        "     sum = sum + num\n",
        "     return sum\n",
        "\n"
      ],
      "metadata": {
        "id": "m7GW6pA-BZJp"
      },
      "execution_count": null,
      "outputs": []
    },
    {
      "cell_type": "code",
      "source": [
        "#2. Create a Python function that accepts a string and returns the reverse of that string.\n",
        "\n",
        "def reverse_string(string):\n",
        " reverse_string = string[::-1]\n",
        " return reverse_string\n"
      ],
      "metadata": {
        "id": "HVYM_y_mE298"
      },
      "execution_count": null,
      "outputs": []
    },
    {
      "cell_type": "code",
      "source": [
        "#3.Implement a Python function that takes a list of integers and returns a new list containing the squares of each number.\n",
        "\n",
        "#squar root of number\n",
        "\n",
        "def square(x):\n",
        " return x**2\n",
        "\n",
        " number = int(input(\"enter the number:\"))\n",
        " print(square(number))\n",
        "\n"
      ],
      "metadata": {
        "id": "lN8tHDNcHCH3"
      },
      "execution_count": null,
      "outputs": []
    },
    {
      "cell_type": "code",
      "source": [
        "#4. Write a Python function that checks if a given number is prime or not from 1 to 200.\n",
        "\n",
        "num = int(input(\"enter the number:\"))\n",
        "count = 0\n",
        "for i in range (1,num+1):\n",
        "  if num % i == 0:\n",
        "    count = count + 1\n",
        "    if count == 2:\n",
        "      print(num,\"prime number\")\n",
        "\n"
      ],
      "metadata": {
        "colab": {
          "base_uri": "https://localhost:8080/"
        },
        "id": "cWkC3PzpRoJR",
        "outputId": "edc5649e-1c6b-4875-dfd7-97341ad9ef54"
      },
      "execution_count": null,
      "outputs": [
        {
          "output_type": "stream",
          "name": "stdout",
          "text": [
            "enter the number:5\n",
            "5 prime number\n"
          ]
        }
      ]
    },
    {
      "cell_type": "code",
      "source": [
        "#5. Create an iterator class in Python that generates the Fibonacci sequence up to a specified number of terms.\n",
        "\n",
        "n = int(input(\"enter the number:\"))\n",
        "a = 0\n",
        "b = 1\n",
        "c = 0\n",
        "print (a)\n",
        "print (b)\n",
        "i = 1\n",
        "while i<n:\n",
        "  c = a+b\n",
        "  a = b\n",
        "  b = c\n",
        "  i= i+1\n",
        "  print(c)\n",
        "\n",
        "\n",
        "\n"
      ],
      "metadata": {
        "colab": {
          "base_uri": "https://localhost:8080/"
        },
        "id": "l3sal5goSpRs",
        "outputId": "39bdde61-7740-44e0-e6b1-76a69e53a9ae"
      },
      "execution_count": null,
      "outputs": [
        {
          "output_type": "stream",
          "name": "stdout",
          "text": [
            "enter the number:5\n",
            "0\n",
            "1\n",
            "1\n",
            "2\n",
            "3\n",
            "5\n"
          ]
        }
      ]
    },
    {
      "cell_type": "code",
      "source": [
        "#6. Write a generator function in Python that yields the powers of 2 up to a given exponent.\n",
        "\n",
        "a = int(input(\"enter the number:\"))\n",
        "power = int(input(\"enter the power:\"))\n",
        "result= a**power\n",
        "print(result)\n"
      ],
      "metadata": {
        "colab": {
          "base_uri": "https://localhost:8080/"
        },
        "id": "UAiacOPWVd7d",
        "outputId": "4bd35b1a-a538-46fc-807a-e38bdc02ff3a"
      },
      "execution_count": null,
      "outputs": [
        {
          "output_type": "stream",
          "name": "stdout",
          "text": [
            "enter the number:5\n",
            "enter the power:2\n",
            "25\n"
          ]
        }
      ]
    },
    {
      "cell_type": "code",
      "source": [
        "#7. Implement a generator function that reads a file line by line and yields each line as a string.\n",
        "\n",
        "\n",
        "def read_file(file_path):\n",
        "  with open (file_path,'r') as file:\n",
        "    for line in file:\n",
        "      yield line\n",
        "\n"
      ],
      "metadata": {
        "id": "7o4HPNRAiLBg"
      },
      "execution_count": null,
      "outputs": []
    },
    {
      "cell_type": "code",
      "source": [
        "#8.Use a lambda function in Python to sort a list of tuples based on the second element of each tuple.\n",
        "\n",
        "# Create a list of tuples named 'subject_marks', each tuple containing a subject and its corresponding marks\n",
        "subject_marks = [('English', 88), ('Science', 90), ('Maths', 97), ('Social sciences', 82)]\n",
        "\n",
        "# Display the original list of tuples to the console\n",
        "print(\"Original list of tuples:\")\n",
        "print(subject_marks)\n",
        "\n",
        "# Sort the 'subject_marks' list of tuples based on the second element of each tuple (the marks),\n",
        "# using a lambda function as the sorting key to extract the second element\n",
        "subject_marks.sort(key=lambda x: x[1])\n",
        "\n",
        "print(\"\\nSorting the List of Tuples:\")\n",
        "print(subject_marks)"
      ],
      "metadata": {
        "colab": {
          "base_uri": "https://localhost:8080/"
        },
        "id": "HZG1cwD280XV",
        "outputId": "497f54b0-b481-4d62-c822-e7de837c875a"
      },
      "execution_count": null,
      "outputs": [
        {
          "output_type": "stream",
          "name": "stdout",
          "text": [
            "Original list of tuples:\n",
            "[('English', 88), ('Science', 90), ('Maths', 97), ('Social sciences', 82)]\n",
            "\n",
            "Sorting the List of Tuples:\n",
            "[('Social sciences', 82), ('English', 88), ('Science', 90), ('Maths', 97)]\n"
          ]
        }
      ]
    },
    {
      "cell_type": "code",
      "source": [
        "#9. Write a Python program that uses `map()` to convert a list of temperatures from Celsius to Fahrenheit.\n",
        "\n",
        "# Temperature in celsius degree\n",
        "celsius = 47\n",
        "\n",
        "# Converting the temperature to\n",
        "# fehrenheit using the formula\n",
        "fahrenheit = (celsius * 1.8) + 32\n",
        "\n",
        "# printing the result\n",
        "print('%.2f Celsius is equivalent to: %.2f Fahrenheit'\n",
        "\t% (celsius, fahrenheit))\n"
      ],
      "metadata": {
        "colab": {
          "base_uri": "https://localhost:8080/"
        },
        "id": "tJeSrFnC-hxb",
        "outputId": "e63a713c-cd85-44cf-ae7f-820e83b87a43"
      },
      "execution_count": null,
      "outputs": [
        {
          "output_type": "stream",
          "name": "stdout",
          "text": [
            "47.00 Celsius is equivalent to: 116.60 Fahrenheit\n"
          ]
        }
      ]
    },
    {
      "cell_type": "code",
      "source": [
        "#10. Create a Python program that uses `filter()` to remove all the vowels from a given string.\n",
        "\n",
        "str = input(\"enter string\")\n",
        "vowel_string = \"aeiouAEIOU\"\n",
        "result = filter(lambda x: x not in vowel_string,str)\n",
        "print(result)"
      ],
      "metadata": {
        "colab": {
          "base_uri": "https://localhost:8080/"
        },
        "id": "B_x3MpoXANMA",
        "outputId": "e81f8dc4-7c1b-4218-e271-40e595aeef6d"
      },
      "execution_count": null,
      "outputs": [
        {
          "output_type": "stream",
          "name": "stdout",
          "text": [
            "enter stringaaki\n",
            "<filter object at 0x7f5bde395b70>\n"
          ]
        }
      ]
    },
    {
      "cell_type": "code",
      "source": [
        "#11.Imagine an accounting routine used in a book shop. It works on a list with sublists, which look like this:\n",
        "\n",
        "    # Order Number\t  Book Title and Author\t              Quantity\t      Price per Item\n",
        "    #   34587\t        Learning Python, Mark Lutz\t           4\t               40.95\n",
        "    #   98762\t        Programming Python, Mark Lutz\t         5\t               56.80\n",
        "    #   77226\t        Head First Python, Paul Barry\t         3\t               32.95\n",
        "    #   88112\t        Einführung in Python3, Bernd Klein\t   3\t               24.99\n",
        "\n",
        "  # Write a Python program, which returns a list with 2-tuples. Each tuple consists of the order number and the\n",
        "  # product of the price per item and the quantity. The product should be increased by 10,- € if the value of the\n",
        "  # order is smaller than 100,00 €.\n",
        "  # Write a Python program using lambda and map.\n",
        "\n",
        "\n",
        "order = [[34587,'Learning Python','Mark Lutz',4,40.95],\n",
        "        [98762,'Programming Python','Mark Lutz',5,56.80],\n",
        "        [77226,'Head First Python','Paul Barry',3,32.95],\n",
        "        [88112,'Einführung in Python3','Bernd Klein',3,24.99]\n",
        "       ]\n",
        "\n",
        "#with using lambda and map\n",
        "\n",
        "print(\"Order Summary: \",list(map(lambda x: (x[0],x[-1]) if x[-1]*x[-2] > 100 else x[-1]*x[-2]+10, order)))\n",
        "\n"
      ],
      "metadata": {
        "colab": {
          "base_uri": "https://localhost:8080/"
        },
        "id": "8HfQFz5_Kenp",
        "outputId": "53cacfba-8914-4de0-f4c2-3cc570452342"
      },
      "execution_count": 10,
      "outputs": [
        {
          "output_type": "stream",
          "name": "stdout",
          "text": [
            "Order Summary:  [(34587, 40.95), (98762, 56.8), 108.85000000000001, 84.97]\n"
          ]
        }
      ]
    }
  ]
}